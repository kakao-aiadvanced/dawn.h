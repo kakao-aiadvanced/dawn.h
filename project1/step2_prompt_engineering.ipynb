{
 "cells": [
  {
   "cell_type": "code",
   "execution_count": 2,
   "id": "a5a194a6-2142-4b53-9b83-f75eb1fccb29",
   "metadata": {},
   "outputs": [
    {
     "name": "stderr",
     "output_type": "stream",
     "text": [
      "/home/bc-user/.local/lib/python3.10/site-packages/tqdm/auto.py:21: TqdmWarning: IProgress not found. Please update jupyter and ipywidgets. See https://ipywidgets.readthedocs.io/en/stable/user_install.html\n",
      "  from .autonotebook import tqdm as notebook_tqdm\n"
     ]
    }
   ],
   "source": [
    "import openai\n",
    "import re\n",
    "import time\n",
    "\n",
    "import numpy as np\n",
    "\n",
    "from tqdm import tqdm\n",
    "from datasets import load_dataset"
   ]
  },
  {
   "cell_type": "code",
   "execution_count": 16,
   "id": "0435dbc0-f700-40a6-af66-48a60a818f28",
   "metadata": {},
   "outputs": [],
   "source": [
    "openai.api_key = \"\""
   ]
  },
  {
   "cell_type": "code",
   "execution_count": 36,
   "id": "b6a094b7-a938-49d1-8aab-2a0223c99829",
   "metadata": {},
   "outputs": [
    {
     "data": {
      "text/plain": [
       "'Given the following user input, determine whether a math teacher or a history teacher would be more suitable to provide an accurate and detailed response.\\n\\nUser Input Examples:\\n\\n\\t1.\\t“What is Newton’s law?”\\n\\t2.\\t“How did World War I end?”\\n\\nInstructions:\\n\\n•\\tIf the question pertains to mathematical concepts, principles, or theories, choose the math teacher.\\n•\\tIf the question relates to historical events, figures, or periods, choose the history teacher.\\n\\nEvaluation Criteria:\\n\\n\\t1.\\tIdentify the subject matter of the user input.\\n\\t2.\\tSelect the role (math teacher or history teacher) that aligns with the identified subject matter.\\n\\t3.\\tProvide a brief justification for your choice.\\n\\nImportant: Select only one agent (either math teacher or history teacher) based on the user input.\\n\\nExamples:\\n\\n•\\tFor “What is Newton’s law?” Answer: math\\n•\\tFor “How did World War I end?” Answer: history'"
      ]
     },
     "execution_count": 36,
     "metadata": {},
     "output_type": "execute_result"
    }
   ],
   "source": [
    "choose_llm_prompt = open('prompts/choose_llm_prompt.txt').read()\n",
    "choose_llm_prompt"
   ]
  },
  {
   "cell_type": "code",
   "execution_count": 37,
   "id": "7e48ac66-7d96-4bbf-b3c2-df68ee4fcdcc",
   "metadata": {},
   "outputs": [],
   "source": [
    "question = \"Given a list of m numbers selected from the natural numbers between 1 and n, sort the list in ascending order.\""
   ]
  },
  {
   "cell_type": "code",
   "execution_count": 38,
   "id": "c5c71080-dea0-4aba-9d60-3aaa52a1e5a6",
   "metadata": {},
   "outputs": [],
   "source": [
    "def completion_with_backoff(**kwargs):\n",
    "    return openai.chat.completions.create(**kwargs)"
   ]
  },
  {
   "cell_type": "code",
   "execution_count": 39,
   "id": "712e823e-7e45-4ebd-84f7-f9a64ba60801",
   "metadata": {},
   "outputs": [],
   "source": [
    "response = completion_with_backoff(\n",
    "          model=\"gpt-3.5-turbo\",\n",
    "          messages=[\n",
    "                {\"role\": \"system\", \"content\": \"Follow the given examples and answer the question.\"},\n",
    "                {\"role\": \"user\", \"content\": choose_llm_prompt},\n",
    "                {\"role\": \"user\", \"content\": question},\n",
    "            ]\n",
    "        )"
   ]
  },
  {
   "cell_type": "code",
   "execution_count": 40,
   "id": "56bca3d4-92ff-48fa-b86c-67ce25b76b53",
   "metadata": {},
   "outputs": [
    {
     "name": "stdout",
     "output_type": "stream",
     "text": [
      "Answer: Math\n",
      "\n",
      "Justification: The user input involves sorting a list of numbers which is a mathematical operation related to ordering and arranging numerical values in a specific sequence. Sorting algorithms and techniques are part of the mathematical domain, making a math teacher more suitable to provide an accurate and detailed response to this question.\n"
     ]
    }
   ],
   "source": [
    "print(response.choices[0].message.content)"
   ]
  },
  {
   "cell_type": "code",
   "execution_count": 41,
   "id": "6fb60d41-d5d1-4937-af4b-1447e72625e6",
   "metadata": {},
   "outputs": [],
   "source": [
    "question = \"What time is the world war 2\""
   ]
  },
  {
   "cell_type": "code",
   "execution_count": 42,
   "id": "e481455f-65c1-459f-ae75-28b3f5556993",
   "metadata": {},
   "outputs": [],
   "source": [
    "response = completion_with_backoff(\n",
    "          model=\"gpt-3.5-turbo\",\n",
    "          messages=[\n",
    "                {\"role\": \"system\", \"content\": \"Follow the given examples and answer the question.\"},\n",
    "                {\"role\": \"user\", \"content\": choose_llm_prompt},\n",
    "                {\"role\": \"user\", \"content\": question},\n",
    "            ]\n",
    "        )"
   ]
  },
  {
   "cell_type": "code",
   "execution_count": 43,
   "id": "a93d0804-e9ad-494f-a21b-b73ececbd0bb",
   "metadata": {},
   "outputs": [
    {
     "name": "stdout",
     "output_type": "stream",
     "text": [
      "Answer: history\n",
      "\n",
      "Justification: The question inquires about a historical event, World War II. Therefore, it falls under the domain of a history teacher for an accurate and detailed response.\n"
     ]
    }
   ],
   "source": [
    "print(response.choices[0].message.content)"
   ]
  },
  {
   "cell_type": "code",
   "execution_count": null,
   "id": "b487ceaf-300b-4183-88d7-b26b7c90428b",
   "metadata": {},
   "outputs": [],
   "source": []
  }
 ],
 "metadata": {
  "kernelspec": {
   "display_name": "Python 3 (ipykernel)",
   "language": "python",
   "name": "python3"
  },
  "language_info": {
   "codemirror_mode": {
    "name": "ipython",
    "version": 3
   },
   "file_extension": ".py",
   "mimetype": "text/x-python",
   "name": "python",
   "nbconvert_exporter": "python",
   "pygments_lexer": "ipython3",
   "version": "3.10.11"
  }
 },
 "nbformat": 4,
 "nbformat_minor": 5
}
