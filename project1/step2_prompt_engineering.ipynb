{
 "cells": [
  {
   "cell_type": "code",
   "execution_count": 8,
   "id": "a5a194a6-2142-4b53-9b83-f75eb1fccb29",
   "metadata": {},
   "outputs": [],
   "source": [
    "import openai\n",
    "import re\n",
    "import time\n",
    "\n",
    "import numpy as np\n",
    "\n",
    "from tqdm import tqdm\n",
    "from datasets import load_dataset"
   ]
  },
  {
   "cell_type": "code",
   "execution_count": 16,
   "id": "0435dbc0-f700-40a6-af66-48a60a818f28",
   "metadata": {},
   "outputs": [],
   "source": "openai.api_key = \"\""
  },
  {
   "cell_type": "code",
   "execution_count": 10,
   "id": "b6a094b7-a938-49d1-8aab-2a0223c99829",
   "metadata": {},
   "outputs": [
    {
     "data": {
      "text/plain": [
       "'Given the following user input, determine whether a math teacher or a history teacher would be more suitable to provide an accurate and detailed response.\\n\\nUser Input Examples:\\n\\n\\t1.\\t“What is Newton’s law?”\\n\\t2.\\t“How did World War I end?”\\n\\nInstructions:\\n\\n•\\tIf the question pertains to mathematical concepts, principles, or theories, choose the math teacher.\\n•\\tIf the question relates to historical events, figures, or periods, choose the history teacher.\\n\\nEvaluation Criteria:\\n\\n\\t1.\\tIdentify the subject matter of the user input.\\n\\t2.\\tSelect the role (math teacher or history teacher) that aligns with the identified subject matter.\\n\\t3.\\tProvide a brief justification for your choice.\\n\\nImportant: Select only one agent (either math teacher or history teacher) based on the user input.\\n\\nExamples:\\n\\n•\\tFor “What is Newton’s law?” Answer: math\\n•\\tFor “How did World War I end?” Answer: history'"
      ]
     },
     "execution_count": 10,
     "metadata": {},
     "output_type": "execute_result"
    }
   ],
   "source": [
    "choose_llm_prompt = open('prompts/choose_llm_prompt.txt').read()\n",
    "choose_llm_prompt"
   ]
  },
  {
   "cell_type": "code",
   "execution_count": 37,
   "id": "7e48ac66-7d96-4bbf-b3c2-df68ee4fcdcc",
   "metadata": {},
   "outputs": [],
   "source": [
    "question = \"Given a list of m numbers selected from the natural numbers between 1 and n, sort the list in ascending order.\""
   ]
  },
  {
   "cell_type": "code",
   "execution_count": 18,
   "id": "c5c71080-dea0-4aba-9d60-3aaa52a1e5a6",
   "metadata": {},
   "outputs": [],
   "source": [
    "def completion_with_backoff(**kwargs):\n",
    "    return openai.chat.completions.create(**kwargs)"
   ]
  },
  {
   "cell_type": "code",
   "execution_count": 5,
   "id": "712e823e-7e45-4ebd-84f7-f9a64ba60801",
   "metadata": {},
   "outputs": [
    {
     "ename": "NameError",
     "evalue": "name 'choose_llm_prompt' is not defined",
     "output_type": "error",
     "traceback": [
      "\u001B[0;31m---------------------------------------------------------------------------\u001B[0m",
      "\u001B[0;31mNameError\u001B[0m                                 Traceback (most recent call last)",
      "Cell \u001B[0;32mIn[5], line 5\u001B[0m\n\u001B[1;32m      1\u001B[0m response \u001B[38;5;241m=\u001B[39m completion_with_backoff(\n\u001B[1;32m      2\u001B[0m           model\u001B[38;5;241m=\u001B[39m\u001B[38;5;124m\"\u001B[39m\u001B[38;5;124mgpt-3.5-turbo\u001B[39m\u001B[38;5;124m\"\u001B[39m,\n\u001B[1;32m      3\u001B[0m           messages\u001B[38;5;241m=\u001B[39m[\n\u001B[1;32m      4\u001B[0m                 {\u001B[38;5;124m\"\u001B[39m\u001B[38;5;124mrole\u001B[39m\u001B[38;5;124m\"\u001B[39m: \u001B[38;5;124m\"\u001B[39m\u001B[38;5;124msystem\u001B[39m\u001B[38;5;124m\"\u001B[39m, \u001B[38;5;124m\"\u001B[39m\u001B[38;5;124mcontent\u001B[39m\u001B[38;5;124m\"\u001B[39m: \u001B[38;5;124m\"\u001B[39m\u001B[38;5;124mFollow the given examples and answer the question.\u001B[39m\u001B[38;5;124m\"\u001B[39m},\n\u001B[0;32m----> 5\u001B[0m                 {\u001B[38;5;124m\"\u001B[39m\u001B[38;5;124mrole\u001B[39m\u001B[38;5;124m\"\u001B[39m: \u001B[38;5;124m\"\u001B[39m\u001B[38;5;124muser\u001B[39m\u001B[38;5;124m\"\u001B[39m, \u001B[38;5;124m\"\u001B[39m\u001B[38;5;124mcontent\u001B[39m\u001B[38;5;124m\"\u001B[39m: \u001B[43mchoose_llm_prompt\u001B[49m},\n\u001B[1;32m      6\u001B[0m                 {\u001B[38;5;124m\"\u001B[39m\u001B[38;5;124mrole\u001B[39m\u001B[38;5;124m\"\u001B[39m: \u001B[38;5;124m\"\u001B[39m\u001B[38;5;124muser\u001B[39m\u001B[38;5;124m\"\u001B[39m, \u001B[38;5;124m\"\u001B[39m\u001B[38;5;124mcontent\u001B[39m\u001B[38;5;124m\"\u001B[39m: question},\n\u001B[1;32m      7\u001B[0m             ]\n\u001B[1;32m      8\u001B[0m         )\n",
      "\u001B[0;31mNameError\u001B[0m: name 'choose_llm_prompt' is not defined"
     ]
    }
   ],
   "source": [
    "response = completion_with_backoff(\n",
    "          model=\"gpt-3.5-turbo\",\n",
    "          messages=[\n",
    "                {\"role\": \"system\", \"content\": \"Follow the given examples and answer the question.\"},\n",
    "                {\"role\": \"user\", \"content\": choose_llm_prompt},\n",
    "                {\"role\": \"user\", \"content\": question},\n",
    "            ]\n",
    "        )"
   ]
  },
  {
   "cell_type": "code",
   "execution_count": 40,
   "id": "56bca3d4-92ff-48fa-b86c-67ce25b76b53",
   "metadata": {},
   "outputs": [
    {
     "name": "stdout",
     "output_type": "stream",
     "text": [
      "Answer: Math\n",
      "\n",
      "Justification: The user input involves sorting a list of numbers which is a mathematical operation related to ordering and arranging numerical values in a specific sequence. Sorting algorithms and techniques are part of the mathematical domain, making a math teacher more suitable to provide an accurate and detailed response to this question.\n"
     ]
    }
   ],
   "source": [
    "print(response.choices[0].message.content)"
   ]
  },
  {
   "cell_type": "code",
   "execution_count": 41,
   "id": "6fb60d41-d5d1-4937-af4b-1447e72625e6",
   "metadata": {},
   "outputs": [],
   "source": [
    "question = \"What time is the world war 2\""
   ]
  },
  {
   "cell_type": "code",
   "execution_count": 42,
   "id": "e481455f-65c1-459f-ae75-28b3f5556993",
   "metadata": {},
   "outputs": [],
   "source": [
    "response = completion_with_backoff(\n",
    "          model=\"gpt-3.5-turbo\",\n",
    "          messages=[\n",
    "                {\"role\": \"system\", \"content\": \"Follow the given examples and answer the question.\"},\n",
    "                {\"role\": \"user\", \"content\": choose_llm_prompt},\n",
    "                {\"role\": \"user\", \"content\": question},\n",
    "            ]\n",
    "        )"
   ]
  },
  {
   "cell_type": "code",
   "execution_count": 43,
   "id": "a93d0804-e9ad-494f-a21b-b73ececbd0bb",
   "metadata": {},
   "outputs": [
    {
     "name": "stdout",
     "output_type": "stream",
     "text": [
      "Answer: history\n",
      "\n",
      "Justification: The question inquires about a historical event, World War II. Therefore, it falls under the domain of a history teacher for an accurate and detailed response.\n"
     ]
    }
   ],
   "source": [
    "print(response.choices[0].message.content)"
   ]
  },
  {
   "cell_type": "markdown",
   "id": "c3001d29-c783-44cf-91f6-60068c13e9d1",
   "metadata": {},
   "source": [
    "### 순서 섞기"
   ]
  },
  {
   "cell_type": "code",
   "execution_count": 23,
   "id": "cd6cd8e7-816e-4948-9772-761687fe6d3a",
   "metadata": {},
   "outputs": [],
   "source": [
    "random_list = [43, 11, 69, 34, 35, 74, 80, 25, 85, 91]"
   ]
  },
  {
   "cell_type": "code",
   "execution_count": 24,
   "id": "e4f126b0-cc8c-44e3-a2de-d6cff31e2c36",
   "metadata": {},
   "outputs": [
    {
     "data": {
      "text/plain": [
       "'Prompt: Given a list of 10 random numbers between 1 and 100, sort the numbers step by step and provide the final sorted list.\\n\\nStep-by-Step Process:\\n\\n\\t1.\\tInitial List:\\n\\t•\\tStart with the given list of 10 random numbers.\\n\\t•\\tExample: [43, 11, 69, 34, 35, 74, 80, 25, 85, 91]\\n\\t2.\\tStep 1: Identify the smallest number in the list and move it to the front.\\n\\t•\\tSmallest number: 11\\n\\t•\\tList after moving the smallest number: [11, 43, 69, 34, 35, 74, 80, 25, 85, 91]\\n\\t3.\\tStep 2: Sort the remaining part of the list.\\n\\t•\\tFind the smallest number in the sublist [43, 69, 34, 35, 74, 80, 25, 85, 91].\\n\\t•\\tSmallest number: 25\\n\\t•\\tList after moving the smallest number: [11, 25, 43, 69, 34, 35, 74, 80, 85, 91]\\n\\t4.\\tStep 3: Continue this process until the entire list is sorted.\\n\\t•\\tFind the smallest number in the sublist [43, 69, 34, 35, 74, 80, 85, 91].\\n\\t•\\tSmallest number: 34\\n\\t•\\tList after moving the smallest number: [11, 25, 34, 43, 69, 35, 74, 80, 85, 91]\\n\\t•\\tFind the smallest number in the sublist [43, 69, 35, 74, 80, 85, 91].\\n\\t•\\tSmallest number: 35\\n\\t•\\tList after moving the smallest number: [11, 25, 34, 35, 43, 69, 74, 80, 85, 91]\\n\\t•\\tContinue the process for the remaining sublists:\\n\\t•\\t[43, 69, 74, 80, 85, 91]\\n\\t•\\t[43, 69, 74, 80, 85, 91]\\n\\t•\\t[69, 74, 80, 85, 91]\\n\\t•\\t[74, 80, 85, 91]\\n\\t•\\t[80, 85, 91]\\n\\t•\\t[85, 91]\\n\\t•\\t[91]\\n\\t5.\\tFinal Sorted List:\\n\\t•\\tAfter completing the above steps, the final sorted list will be: [11, 25, 34, 35, 43, 69, 74, 80, 85, 91]\\n\\nNote: Ensure each step is clearly described, and the state of the list is updated accordingly at each step.'"
      ]
     },
     "execution_count": 24,
     "metadata": {},
     "output_type": "execute_result"
    }
   ],
   "source": [
    "sort_prompt = open('prompts/sort_prompt.txt').read()\n",
    "sort_prompt"
   ]
  },
  {
   "cell_type": "code",
   "execution_count": 25,
   "id": "48a824ea-897f-4dd5-9b8e-5ce84017789b",
   "metadata": {},
   "outputs": [],
   "source": [
    "response = completion_with_backoff(\n",
    "          model=\"gpt-3.5-turbo\",\n",
    "          messages=[\n",
    "                {\"role\": \"system\", \"content\": \"Follow the given examples and answer the question.\"},\n",
    "                {\"role\": \"user\", \"content\": sort_prompt},\n",
    "                {\"role\": \"user\", \"content\": str(random_list)},\n",
    "            ]\n",
    "        )"
   ]
  },
  {
   "cell_type": "code",
   "execution_count": 26,
   "id": "2284d7c4-c286-411e-99bb-8f1f5b05da3f",
   "metadata": {},
   "outputs": [
    {
     "name": "stdout",
     "output_type": "stream",
     "text": [
      "Step 1: Identify the smallest number in the list and move it to the front.\n",
      "• Smallest number: 11\n",
      "• List after moving the smallest number: [11, 43, 69, 34, 35, 74, 80, 25, 85, 91]\n",
      "\n",
      "Step 2: Sort the remaining part of the list.\n",
      "• Find the smallest number in the sublist [43, 69, 34, 35, 74, 80, 25, 85, 91].\n",
      "• Smallest number: 25\n",
      "• List after moving the smallest number: [11, 25, 43, 69, 34, 35, 74, 80, 85, 91]\n",
      "\n",
      "Step 3: Continue this process until the entire list is sorted.\n",
      "• Find the smallest number in the sublist [43, 69, 34, 35, 74, 80, 85, 91].\n",
      "• Smallest number: 34\n",
      "• List after moving the smallest number: [11, 25, 34, 43, 69, 35, 74, 80, 85, 91]\n",
      "\n",
      "• Find the smallest number in the sublist [43, 69, 35, 74, 80, 85, 91].\n",
      "• Smallest number: 35\n",
      "• List after moving the smallest number: [11, 25, 34, 35, 43, 69, 74, 80, 85, 91]\n",
      "\n",
      "• Find the smallest number in the sublist [43, 69, 74, 80, 85, 91].\n",
      "• Smallest number: 43\n",
      "• List after moving the smallest number: [11, 25, 34, 35, 43, 69, 74, 80, 85, 91]\n",
      "\n",
      "• Find the smallest number in the sublist [69, 74, 80, 85, 91].\n",
      "• Smallest number: 69\n",
      "• List after moving the smallest number: [11, 25, 34, 35, 43, 69, 74, 80, 85, 91]\n",
      "\n",
      "• Find the smallest number in the sublist [74, 80, 85, 91].\n",
      "• Smallest number: 74\n",
      "• List after moving the smallest number: [11, 25, 34, 35, 43, 69, 74, 80, 85, 91]\n",
      "\n",
      "• Find the smallest number in the sublist [80, 85, 91].\n",
      "• Smallest number: 80\n",
      "• List after moving the smallest number: [11, 25, 34, 35, 43, 69, 74, 80, 85, 91]\n",
      "\n",
      "• Find the smallest number in the sublist [85, 91].\n",
      "• Smallest number: 85\n",
      "• List after moving the smallest number: [11, 25, 34, 35, 43, 69, 74, 80, 85, 91]\n",
      "\n",
      "• Find the smallest number in the sublist [91].\n",
      "• Smallest number: 91\n",
      "• List after moving the smallest number: [11, 25, 34, 35, 43, 69, 74, 80, 85, 91]\n",
      "\n",
      "Final Sorted List:\n",
      "• After completing the above steps, the final sorted list will be: [11, 25, 34, 35, 43, 69, 74, 80, 85, 91]\n"
     ]
    }
   ],
   "source": [
    "print(response.choices[0].message.content)"
   ]
  },
  {
   "cell_type": "code",
   "execution_count": 28,
   "id": "62bc738a-bc0e-42e4-a2ba-13e4246f5911",
   "metadata": {},
   "outputs": [
    {
     "data": {
      "text/plain": [
       "[11, 25, 34, 35, 43, 69, 74, 80, 85, 91]"
      ]
     },
     "execution_count": 28,
     "metadata": {},
     "output_type": "execute_result"
    }
   ],
   "source": [
    "sorted(random_list)"
   ]
  },
  {
   "cell_type": "code",
   "execution_count": null,
   "id": "c4024161-e5ff-443e-919f-471aeb084a58",
   "metadata": {},
   "outputs": [],
   "source": []
  }
 ],
 "metadata": {
  "kernelspec": {
   "display_name": "Python 3 (ipykernel)",
   "language": "python",
   "name": "python3"
  },
  "language_info": {
   "codemirror_mode": {
    "name": "ipython",
    "version": 3
   },
   "file_extension": ".py",
   "mimetype": "text/x-python",
   "name": "python",
   "nbconvert_exporter": "python",
   "pygments_lexer": "ipython3",
   "version": "3.10.11"
  }
 },
 "nbformat": 4,
 "nbformat_minor": 5
}
